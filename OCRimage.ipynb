{
 "cells": [
  {
   "cell_type": "code",
   "execution_count": 11,
   "metadata": {},
   "outputs": [
    {
     "name": "stdout",
     "output_type": "stream",
     "text": [
      "<class 'str'>\n"
     ]
    }
   ],
   "source": [
    "import cv2\n",
    "import sys\n",
    "import pytesseract\n",
    "pytesseract.pytesseract.tesseract_cmd = r\"C:\\Users\\devar\\Documents\\tesseract-OCR\\tesseract.exe\"\n",
    "\n",
    "\n",
    "if __name__ == '__main__':\n",
    "\n",
    "#   if len(sys.argv) < 2:\n",
    "#     print('Usage: python ocr_simple.py image.jpg')\n",
    "#     sys.exit(1)\n",
    "  \n",
    "  # Read image path from command line\n",
    "  imPath = \"unnamed.png\"\n",
    "    \n",
    "  # Uncomment the line below to provide path to tesseract manually\n",
    "  # pytesseract.pytesseract.tesseract_cmd = '/usr/bin/tesseract'\n",
    "\n",
    "  # Define config parameters.\n",
    "  # '-l eng'  for using the English language\n",
    "  # '--oem 1' sets the OCR Engine Mode to LSTM only.\n",
    "  #\n",
    "  #  There are four OCR Engine Mode (oem) available\n",
    "  #  0    Legacy engine only.\n",
    "  #  1    Neural nets LSTM engine only.\n",
    "  #  2    Legacy + LSTM engines.\n",
    "  #  3    Default, based on what is available.\n",
    "  #\n",
    "  #  '--psm 3' sets the Page Segmentation Mode (psm) to auto.\n",
    "  #  Other important psm modes will be discussed in a future post.  \n",
    "\n",
    "\n",
    "  config = ('-l eng --oem 1 --psm 3')\n",
    "\n",
    "  # Read image from disk\n",
    "  im = cv2.imread(imPath, cv2.IMREAD_COLOR)\n",
    "\n",
    "  # Run tesseract OCR on image\n",
    "  text = pytesseract.image_to_string(im, config=config)\n",
    "\n",
    "  # Print recognized text\n",
    "  print(type(text))\n",
    "  # Import the required module for text \n",
    "# to speech conversion \n",
    "  import pyttsx3 \n",
    "\n",
    "# init function to get an engine instance for the speech synthesis \n",
    "  engine = pyttsx3.init() \n",
    "\n",
    "# say method on the engine that passing input text to be spoken \n",
    "  engine.say(text) \n",
    "\n",
    "# run and wait method, it processes the voice commands. \n",
    "  engine.runAndWait() \n"
   ]
  },
  {
   "cell_type": "code",
   "execution_count": null,
   "metadata": {},
   "outputs": [],
   "source": []
  }
 ],
 "metadata": {
  "kernelspec": {
   "display_name": "Python 3",
   "language": "python",
   "name": "python3"
  },
  "language_info": {
   "codemirror_mode": {
    "name": "ipython",
    "version": 3
   },
   "file_extension": ".py",
   "mimetype": "text/x-python",
   "name": "python",
   "nbconvert_exporter": "python",
   "pygments_lexer": "ipython3",
   "version": "3.7.7"
  }
 },
 "nbformat": 4,
 "nbformat_minor": 4
}
