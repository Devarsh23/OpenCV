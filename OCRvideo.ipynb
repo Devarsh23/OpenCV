{
 "cells": [
  {
   "cell_type": "code",
   "execution_count": 1,
   "metadata": {},
   "outputs": [],
   "source": [
    "import cv2\n",
    "import sys\n",
    "import pytesseract\n",
    "import pyttsx3 \n",
    "\n",
    "pytesseract.pytesseract.tesseract_cmd = r\"C:\\Users\\devar\\Documents\\tesseract-OCR\\tesseract.exe\""
   ]
  },
  {
   "cell_type": "code",
   "execution_count": 2,
   "metadata": {},
   "outputs": [],
   "source": [
    "def watermark(image):\n",
    "    from imutils import paths\n",
    "    import numpy as np\n",
    "    watermark = cv2.imread(\"watermark.png\", cv2.IMREAD_UNCHANGED)\n",
    "    (wH, wW) = watermark.shape[:2]\n",
    "    (B, G, R, A) = cv2.split(watermark)\n",
    "    B = cv2.bitwise_and(B, B, mask=A)\n",
    "    G = cv2.bitwise_and(G, G, mask=A)\n",
    "    R = cv2.bitwise_and(R, R, mask=A)\n",
    "    watermark = cv2.merge([B, G, R, A])\n",
    "    (h, w) = image.shape[:2]\n",
    "    image = np.dstack([image, np.ones((h, w), dtype=\"uint8\") * 255])\n",
    "    overlay = np.zeros((h, w, 4), dtype=\"uint8\")\n",
    "    overlay[h - wH - 10:h - 10, w - wW - 10:w - 10] = watermark\n",
    "    output = image.copy()\n",
    "    cv2.addWeighted(overlay, 0.25, output, 1.0, 0, output)\n",
    "    return output\n",
    "    \n"
   ]
  },
  {
   "cell_type": "code",
   "execution_count": 3,
   "metadata": {},
   "outputs": [],
   "source": [
    "if __name__ == '__main__':\n",
    "    config = ('-l eng --oem 1 --psm 3')\n",
    "    #url=\"http://192.168.2.2:8080\"\n",
    "    cap=cv2.VideoCapture(0)\n",
    "    while True:\n",
    "        _,frame=cap.read()\n",
    "        #press rwhen ready to read\n",
    "        if cv2.waitKey(1) & 0xFF == ord(\"r\"):\n",
    "            \n",
    "            text = pytesseract.image_to_string(frame, config=config)\n",
    "            engine = pyttsx3.init()\n",
    "            engine.say(text)\n",
    "            engine.runAndWait()\n",
    "        frame=watermark(frame)\n",
    "        cv2.imshow(\"image\",frame)\n",
    "        if cv2.waitKey(1) & 0xFF == ord('q'):\n",
    "            break\n",
    "    cap.release()\n",
    "    cv2.destroyAllWindows()\n",
    "        \n"
   ]
  },
  {
   "cell_type": "code",
   "execution_count": null,
   "metadata": {},
   "outputs": [],
   "source": []
  }
 ],
 "metadata": {
  "kernelspec": {
   "display_name": "Python 3",
   "language": "python",
   "name": "python3"
  },
  "language_info": {
   "codemirror_mode": {
    "name": "ipython",
    "version": 3
   },
   "file_extension": ".py",
   "mimetype": "text/x-python",
   "name": "python",
   "nbconvert_exporter": "python",
   "pygments_lexer": "ipython3",
   "version": "3.7.6"
  }
 },
 "nbformat": 4,
 "nbformat_minor": 4
}
